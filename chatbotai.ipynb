{
  "nbformat": 4,
  "nbformat_minor": 0,
  "metadata": {
    "colab": {
      "provenance": [],
      "authorship_tag": "ABX9TyNc6rCpjPq+i19LC4t6LohB",
      "include_colab_link": true
    },
    "kernelspec": {
      "name": "python3",
      "display_name": "Python 3"
    },
    "language_info": {
      "name": "python"
    }
  },
  "cells": [
    {
      "cell_type": "markdown",
      "metadata": {
        "id": "view-in-github",
        "colab_type": "text"
      },
      "source": [
        "<a href=\"https://colab.research.google.com/github/nitesh-raj-github/niteshraj/blob/main/chatbotai.ipynb\" target=\"_parent\"><img src=\"https://colab.research.google.com/assets/colab-badge.svg\" alt=\"Open In Colab\"/></a>"
      ]
    },
    {
      "cell_type": "code",
      "execution_count": null,
      "metadata": {
        "colab": {
          "base_uri": "https://localhost:8080/"
        },
        "id": "8iLMsFnq7Fae",
        "outputId": "5c1b2ace-a6a6-45e9-9d77-51f7fc1a01ce"
      },
      "outputs": [
        {
          "output_type": "stream",
          "name": "stdout",
          "text": [
            " Your Love: Hey there! I'm your Nitesh . What's your name?\n",
            "You: bnnn,n,\n",
            "Nitesh : Nice to meet you, bnnn,n,! What's on your mind?\n",
            "You: jkhkj\n",
            "Flirty Chatbot: If beauty were time, you’d be an eternity.\n"
          ]
        }
      ],
      "source": [
        "import random\n",
        "\n",
        "nitesh_responses = [\n",
        "    \"Are you a magician? Because whenever I look at you, everyone else disappears.\",\n",
        "    \"Do you have a map? I keep getting lost in your eyes.\",\n",
        "    \"If you were a vegetable, you’d be a cute-cumber!\",\n",
        "    \"Is your name Google? Because you have everything I’m searching for.\",\n",
        "    \"Do you believe in love at first sight, or should I walk by again?\",\n",
        "    \"If you were a fruit, you’d be a fine-apple!\",\n",
        "    \"Are you a parking ticket? Because you’ve got ‘FINE’ written all over you.\",\n",
        "    \"Do you have a Band-Aid? Because I just scraped my knee falling for you.\",\n",
        "    \"If beauty were time, you’d be an eternity.\",\n",
        "    \"Is your dad a baker? Because you’re a cutie pie!\"\n",
        "]\n",
        "\n",
        "def flirty_chatbot():\n",
        "    print(\" Your Love: Hey there! I'm your Nitesh . What's your name?\")\n",
        "    name = input(\"You: \")\n",
        "    print(f\"Nitesh : Nice to meet you, {name}! What's on your mind?\")\n",
        "\n",
        "    while True:\n",
        "        user_input = input(\"You: \")\n",
        "        if user_input.lower() in ['exit', 'quit', 'bye']:\n",
        "            print(\"Flirty Chatbot: It was great chatting with you! Don't be a stranger! 😉\")\n",
        "            break\n",
        "        else:\n",
        "            response = random.choice(flirty_responses)\n",
        "            print(f\"Flirty Chatbot: {response}\")\n",
        "flirty_chatbot()\n"
      ]
    }
  ]
}