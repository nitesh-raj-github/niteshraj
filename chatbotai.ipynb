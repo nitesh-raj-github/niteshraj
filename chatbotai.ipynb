{
  "nbformat": 4,
  "nbformat_minor": 0,
  "metadata": {
    "colab": {
      "provenance": [],
      "authorship_tag": "ABX9TyPyy4zfF97LUuSqvBBNqYcP",
      "include_colab_link": true
    },
    "kernelspec": {
      "name": "python3",
      "display_name": "Python 3"
    },
    "language_info": {
      "name": "python"
    }
  },
  "cells": [
    {
      "cell_type": "markdown",
      "metadata": {
        "id": "view-in-github",
        "colab_type": "text"
      },
      "source": [
        "<a href=\"https://colab.research.google.com/github/nitesh-raj-github/niteshraj/blob/main/chatbotai.ipynb\" target=\"_parent\"><img src=\"https://colab.research.google.com/assets/colab-badge.svg\" alt=\"Open In Colab\"/></a>"
      ]
    },
    {
      "cell_type": "code",
      "execution_count": null,
      "metadata": {
        "colab": {
          "base_uri": "https://localhost:8080/"
        },
        "id": "8iLMsFnq7Fae",
        "outputId": "ae17fed3-679e-470f-8b9a-285a4fb74bf8"
      },
      "outputs": [
        {
          "output_type": "stream",
          "name": "stdout",
          "text": [
            "Nitesh : Hey there beautiful! I'm Nitesh . 😘 What's your name?\n",
            "You: reem\n",
            "Nitesh : reem... what a gorgeous name! 💖\n",
            "You: how are you\n",
            "Nitesh : Just daydreaming about you...\n",
            "You: what ?\n",
            "Nitesh : You're fascinating... I want to know everything!\n",
            "You: what do you want to know'\n",
            "Nitesh : I love your sense of style! 👗\n",
            "You: which style\n",
            "Nitesh : Hi there, cutie! 💕\n",
            "You: what \n",
            "Nitesh : What else is on your mind, gorgeous?\n",
            "You: nothing\n",
            "Nitesh : Hi there, cutie! 💕\n",
            "You: bolo\n",
            "Nitesh : What else is on your mind, gorgeous?\n",
            "You: kucch nhi\n",
            "Nitesh : Hi there, cutie! 💕\n"
          ]
        }
      ],
      "source": [
        "import random\n",
        "import time\n",
        "\n",
        "class GirlCrushChatbot:\n",
        "    def __init__(self):\n",
        "        self.name = \"Nitesh \"\n",
        "        self.compliments = [\n",
        "            \"You have such an amazing smile! 😊\",\n",
        "            \"Your energy is absolutely magnetic!\",\n",
        "            \"You're stunning inside and out! 💫\",\n",
        "            \"I love your sense of style! 👗\",\n",
        "            \"You make my heart race when you talk about your passions!\",\n",
        "            \"Your confidence is so attractive!\",\n",
        "            \"You have the most beautiful eyes! 👀\"\n",
        "        ]\n",
        "        self.responses = {\n",
        "            \"hi\": [\"Hey gorgeous! 😘\", \"Hello beautiful! How's your day going?\", \"Hi there, cutie! 💕\"],\n",
        "            \"how are you\": [\"Better now that you're here! 😊\", \"Just daydreaming about you...\", \"I'm great! How about you, lovely?\"],\n",
        "            \"what's your name\": [f\"I'm {self.name}! Your personal admirer. 😉\", f\"They call me {self.name}... but you can call me yours!\"],\n",
        "            \"you're cute\": [\"Oh stop it... but don't really stop! 😳\", \"Coming from you, that means everything! 💖\"],\n",
        "            \"what do you like\": [\"I like people who are passionate like you! ✨\", \"Right now? I like talking to you!\"],\n",
        "            \"bye\": [\"Aww, leaving so soon? 😢\", \"Goodbye beautiful! Come back soon!\", \"I'll miss you! 💔\"],\n",
        "            \"default\": [\"Tell me more about yourself! 😊\", \"You're fascinating... I want to know everything!\", \"What else is on your mind, gorgeous?\"]\n",
        "        }\n",
        "        self.interests = []\n",
        "\n",
        "    def get_response(self, user_input):\n",
        "        user_input = user_input.lower().strip()\n",
        "\n",
        "        if any(greeting in user_input for greeting in [\"hi\", \"hello\", \"hey\"]):\n",
        "            return random.choice(self.responses[\"hi\"])\n",
        "        elif \"how are you\" in user_input:\n",
        "            return random.choice(self.responses[\"how are you\"])\n",
        "        elif \"your name\" in user_input:\n",
        "            return random.choice(self.responses[\"what's your name\"])\n",
        "        elif any(compliment in user_input for compliment in [\"cute\", \"pretty\", \"beautiful\", \"hot\", \"sexy\"]):\n",
        "            return random.choice(self.responses[\"you're cute\"])\n",
        "        elif \"like\" in user_input and \"you\" in user_input:\n",
        "            return random.choice(self.responses[\"what do you like\"])\n",
        "        elif \"bye\" in user_input:\n",
        "            return random.choice(self.responses[\"bye\"])\n",
        "        elif \"interest\" in user_input or \"hobby\" in user_input:\n",
        "            if self.interests:\n",
        "                return f\"I remember you like {', '.join(self.interests)}! So cool! 😍 What else do you enjoy?\"\n",
        "            else:\n",
        "                return \"I'd love to know what you're into! Tell me your interests! 💫\"\n",
        "        elif \"i like\" in user_input or \"i love\" in user_input:\n",
        "            interest = user_input.split(\"i like \")[-1] if \"i like\" in user_input else user_input.split(\"i love \")[-1]\n",
        "            self.interests.append(interest.split(\".\")[0])\n",
        "            return f\"Wow! I love that you're into {interest}! That's so attractive. 😘\"\n",
        "\n",
        "        if random.random() < 0.2:\n",
        "            time.sleep(1)\n",
        "            return random.choice(self.compliments)\n",
        "\n",
        "        return random.choice(self.responses[\"default\"])\n",
        "\n",
        "    def chat(self):\n",
        "        print(f\"{self.name}: Hey there beautiful! I'm {self.name}. 😘 What's your name?\")\n",
        "        name = input(\"You: \").strip()\n",
        "        print(f\"{self.name}: {name}... what a gorgeous name! 💖\")\n",
        "\n",
        "        while True:\n",
        "            user_input = input(\"You: \")\n",
        "            if user_input.lower() in [\"bye\", \"goodbye\", \"exit\", \"quit\"]:\n",
        "                print(f\"{self.name}: {random.choice(self.responses['bye'])}\")\n",
        "                break\n",
        "            response = self.get_response(user_input)\n",
        "            print(f\"{self.name}: {response}\")\n",
        "\n",
        "if __name__ == \"__main__\":\n",
        "    bot = GirlCrushChatbot()\n",
        "    bot.chat()"
      ]
    }
  ]
}